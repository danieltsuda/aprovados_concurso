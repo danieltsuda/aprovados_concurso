{
 "cells": [
  {
   "cell_type": "markdown",
   "id": "152634a2",
   "metadata": {},
   "source": [
    "# Classificação final dos aprovados no concurso da Prefeitura de Poços de Caldas\n",
    "### Projeto para organizar lista de aprovados no concurso por nota, função, aplicando o critério de desempate da idade"
   ]
  },
  {
   "cell_type": "code",
   "execution_count": 1,
   "id": "ef6d1f9f",
   "metadata": {},
   "outputs": [],
   "source": [
    "import pandas as pd"
   ]
  },
  {
   "cell_type": "code",
   "execution_count": 2,
   "id": "d6c7652f",
   "metadata": {},
   "outputs": [],
   "source": [
    "df = pd.read_excel('concursopc.xlsx')"
   ]
  },
  {
   "cell_type": "code",
   "execution_count": 3,
   "id": "f3e9f292",
   "metadata": {},
   "outputs": [
    {
     "data": {
      "text/html": [
       "<div>\n",
       "<style scoped>\n",
       "    .dataframe tbody tr th:only-of-type {\n",
       "        vertical-align: middle;\n",
       "    }\n",
       "\n",
       "    .dataframe tbody tr th {\n",
       "        vertical-align: top;\n",
       "    }\n",
       "\n",
       "    .dataframe thead th {\n",
       "        text-align: right;\n",
       "    }\n",
       "</style>\n",
       "<table border=\"1\" class=\"dataframe\">\n",
       "  <thead>\n",
       "    <tr style=\"text-align: right;\">\n",
       "      <th></th>\n",
       "      <th>Unnamed: 0</th>\n",
       "      <th>Unnamed: 1</th>\n",
       "      <th>Unnamed: 2</th>\n",
       "      <th>Unnamed: 3</th>\n",
       "      <th>Unnamed: 4</th>\n",
       "    </tr>\n",
       "  </thead>\n",
       "  <tbody>\n",
       "    <tr>\n",
       "      <th>0</th>\n",
       "      <td>Nome</td>\n",
       "      <td>Função</td>\n",
       "      <td>Inscrição</td>\n",
       "      <td>Nascimento</td>\n",
       "      <td>Objetiva</td>\n",
       "    </tr>\n",
       "    <tr>\n",
       "      <th>1</th>\n",
       "      <td>ADALTON CÉSAR RODRIGUES</td>\n",
       "      <td>Advogado</td>\n",
       "      <td>224690</td>\n",
       "      <td>1997-12-19 00:00:00</td>\n",
       "      <td>79.0</td>\n",
       "    </tr>\n",
       "    <tr>\n",
       "      <th>2</th>\n",
       "      <td>ADAMS THIERRY SANTOS BRANDÃO</td>\n",
       "      <td>Agente de Atendimento Emergencial</td>\n",
       "      <td>226351</td>\n",
       "      <td>2001-05-10 00:00:00</td>\n",
       "      <td>61.1</td>\n",
       "    </tr>\n",
       "    <tr>\n",
       "      <th>3</th>\n",
       "      <td>ADELAIDE DANZIGER GOMES</td>\n",
       "      <td>Merendeira</td>\n",
       "      <td>226271</td>\n",
       "      <td>1970-05-12 00:00:00</td>\n",
       "      <td>70.0</td>\n",
       "    </tr>\n",
       "    <tr>\n",
       "      <th>4</th>\n",
       "      <td>ADELAIDE MARA OLIVEIRA SILVA</td>\n",
       "      <td>Auxiliar de Serviços Gerais</td>\n",
       "      <td>227178</td>\n",
       "      <td>1973-01-25 00:00:00</td>\n",
       "      <td>60.0</td>\n",
       "    </tr>\n",
       "  </tbody>\n",
       "</table>\n",
       "</div>"
      ],
      "text/plain": [
       "                     Unnamed: 0                         Unnamed: 1 Unnamed: 2  \\\n",
       "0                          Nome                             Função  Inscrição   \n",
       "1       ADALTON CÉSAR RODRIGUES                           Advogado     224690   \n",
       "2  ADAMS THIERRY SANTOS BRANDÃO  Agente de Atendimento Emergencial     226351   \n",
       "3       ADELAIDE DANZIGER GOMES                         Merendeira     226271   \n",
       "4  ADELAIDE MARA OLIVEIRA SILVA        Auxiliar de Serviços Gerais     227178   \n",
       "\n",
       "            Unnamed: 3 Unnamed: 4  \n",
       "0           Nascimento   Objetiva  \n",
       "1  1997-12-19 00:00:00       79.0  \n",
       "2  2001-05-10 00:00:00       61.1  \n",
       "3  1970-05-12 00:00:00       70.0  \n",
       "4  1973-01-25 00:00:00       60.0  "
      ]
     },
     "execution_count": 3,
     "metadata": {},
     "output_type": "execute_result"
    }
   ],
   "source": [
    "df.head()"
   ]
  },
  {
   "cell_type": "code",
   "execution_count": 4,
   "id": "19846d8d",
   "metadata": {},
   "outputs": [
    {
     "name": "stdout",
     "output_type": "stream",
     "text": [
      "<class 'pandas.core.frame.DataFrame'>\n",
      "RangeIndex: 2210 entries, 0 to 2209\n",
      "Data columns (total 5 columns):\n",
      " #   Column      Non-Null Count  Dtype \n",
      "---  ------      --------------  ----- \n",
      " 0   Unnamed: 0  2209 non-null   object\n",
      " 1   Unnamed: 1  2210 non-null   object\n",
      " 2   Unnamed: 2  2209 non-null   object\n",
      " 3   Unnamed: 3  2209 non-null   object\n",
      " 4   Unnamed: 4  2209 non-null   object\n",
      "dtypes: object(5)\n",
      "memory usage: 86.5+ KB\n"
     ]
    }
   ],
   "source": [
    "df.info()"
   ]
  },
  {
   "cell_type": "code",
   "execution_count": 5,
   "id": "21c90f9c",
   "metadata": {},
   "outputs": [],
   "source": [
    "# excluindo coluna que não será necessária para esta análise\n",
    "df = df.drop(['Unnamed: 2'], axis=1)"
   ]
  },
  {
   "cell_type": "code",
   "execution_count": 6,
   "id": "b19208b0",
   "metadata": {},
   "outputs": [],
   "source": [
    "# excluindo a primeira linha que deveria ser as colunas\n",
    "df = df.drop([df.index[0]])"
   ]
  },
  {
   "cell_type": "code",
   "execution_count": 7,
   "id": "7359231e",
   "metadata": {},
   "outputs": [],
   "source": [
    "# renomeando as colunas com os nomes corretos\n",
    "df = df.rename(columns = {'Unnamed: 0':'Nome', 'Unnamed: 1':'Função', 'Unnamed: 3':'Nascimento', 'Unnamed: 4':'Nota'})"
   ]
  },
  {
   "cell_type": "code",
   "execution_count": 8,
   "id": "56408aa1",
   "metadata": {},
   "outputs": [],
   "source": [
    "# deletando linhas com valores nulos\n",
    "df = df.dropna()"
   ]
  },
  {
   "cell_type": "code",
   "execution_count": 9,
   "id": "ffabbada",
   "metadata": {},
   "outputs": [
    {
     "data": {
      "text/html": [
       "<div>\n",
       "<style scoped>\n",
       "    .dataframe tbody tr th:only-of-type {\n",
       "        vertical-align: middle;\n",
       "    }\n",
       "\n",
       "    .dataframe tbody tr th {\n",
       "        vertical-align: top;\n",
       "    }\n",
       "\n",
       "    .dataframe thead th {\n",
       "        text-align: right;\n",
       "    }\n",
       "</style>\n",
       "<table border=\"1\" class=\"dataframe\">\n",
       "  <thead>\n",
       "    <tr style=\"text-align: right;\">\n",
       "      <th></th>\n",
       "      <th>Nome</th>\n",
       "      <th>Função</th>\n",
       "      <th>Nascimento</th>\n",
       "      <th>Nota</th>\n",
       "    </tr>\n",
       "  </thead>\n",
       "  <tbody>\n",
       "    <tr>\n",
       "      <th>1527</th>\n",
       "      <td>MARIANA PEREIRA DE ANDRADE VALLIM</td>\n",
       "      <td>Advogado</td>\n",
       "      <td>1992-06-10 00:00:00</td>\n",
       "      <td>97.0</td>\n",
       "    </tr>\n",
       "    <tr>\n",
       "      <th>2169</th>\n",
       "      <td>VITORIA VIEIRA GUIDI</td>\n",
       "      <td>Advogado</td>\n",
       "      <td>1996-04-29 00:00:00</td>\n",
       "      <td>95.0</td>\n",
       "    </tr>\n",
       "    <tr>\n",
       "      <th>1226</th>\n",
       "      <td>LEONARDO TEMÍSTOCLES NOGUEIRA</td>\n",
       "      <td>Advogado</td>\n",
       "      <td>1998-02-15 00:00:00</td>\n",
       "      <td>95.0</td>\n",
       "    </tr>\n",
       "    <tr>\n",
       "      <th>193</th>\n",
       "      <td>ANDRÉ PEREIRA MELO</td>\n",
       "      <td>Advogado</td>\n",
       "      <td>1991-09-30 00:00:00</td>\n",
       "      <td>94.0</td>\n",
       "    </tr>\n",
       "    <tr>\n",
       "      <th>679</th>\n",
       "      <td>FABÍOLA MARQUES REZENDE</td>\n",
       "      <td>Advogado</td>\n",
       "      <td>1989-11-23 00:00:00</td>\n",
       "      <td>92.0</td>\n",
       "    </tr>\n",
       "  </tbody>\n",
       "</table>\n",
       "</div>"
      ],
      "text/plain": [
       "                                   Nome    Função           Nascimento  Nota\n",
       "1527  MARIANA PEREIRA DE ANDRADE VALLIM  Advogado  1992-06-10 00:00:00  97.0\n",
       "2169               VITORIA VIEIRA GUIDI  Advogado  1996-04-29 00:00:00  95.0\n",
       "1226      LEONARDO TEMÍSTOCLES NOGUEIRA  Advogado  1998-02-15 00:00:00  95.0\n",
       "193                  ANDRÉ PEREIRA MELO  Advogado  1991-09-30 00:00:00  94.0\n",
       "679             FABÍOLA MARQUES REZENDE  Advogado  1989-11-23 00:00:00  92.0"
      ]
     },
     "execution_count": 9,
     "metadata": {},
     "output_type": "execute_result"
    }
   ],
   "source": [
    "# ordenando a tabela por cargos, nota e com o critério de desempate por idade\n",
    "df = df.sort_values(['Função', 'Nota', 'Nascimento'], ascending = [True, False, True])\n",
    "df.head()"
   ]
  },
  {
   "cell_type": "code",
   "execution_count": 10,
   "id": "abc62198",
   "metadata": {},
   "outputs": [],
   "source": [
    "# exportando o dataframe manipulado para um arquivo excel\n",
    "classificados = \"Classificados.xlsx\"\n",
    "df.to_excel(classificados)"
   ]
  }
 ],
 "metadata": {
  "kernelspec": {
   "display_name": "Python 3 (ipykernel)",
   "language": "python",
   "name": "python3"
  },
  "language_info": {
   "codemirror_mode": {
    "name": "ipython",
    "version": 3
   },
   "file_extension": ".py",
   "mimetype": "text/x-python",
   "name": "python",
   "nbconvert_exporter": "python",
   "pygments_lexer": "ipython3",
   "version": "3.9.12"
  }
 },
 "nbformat": 4,
 "nbformat_minor": 5
}
